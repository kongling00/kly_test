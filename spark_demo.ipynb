{
 "cells": [
  {
   "cell_type": "code",
   "execution_count": 1,
   "metadata": {},
   "outputs": [
    {
     "ename": "NameError",
     "evalue": "name 'train_path' is not defined",
     "output_type": "error",
     "traceback": [
      "\u001b[0;31m---------------------------------------------------------------------------\u001b[0m",
      "\u001b[0;31mNameError\u001b[0m                                 Traceback (most recent call last)",
      "\u001b[0;32m<ipython-input-1-059162eb8871>\u001b[0m in \u001b[0;36m<module>\u001b[0;34m\u001b[0m\n\u001b[1;32m     30\u001b[0m         \u001b[0;34m-\u001b[0m\u001b[0;34m-\u001b[0m\u001b[0mconf\u001b[0m \u001b[0mspark\u001b[0m\u001b[0;34m.\u001b[0m\u001b[0mkubernetes\u001b[0m\u001b[0;34m.\u001b[0m\u001b[0mallocation\u001b[0m\u001b[0;34m.\u001b[0m\u001b[0mbatch\u001b[0m\u001b[0;34m.\u001b[0m\u001b[0msize\u001b[0m\u001b[0;34m=\u001b[0m\u001b[0;36m50\u001b[0m\u001b[0;31m \u001b[0m\u001b[0;31m\\\u001b[0m\u001b[0;34m\u001b[0m\u001b[0;34m\u001b[0m\u001b[0m\n\u001b[1;32m     31\u001b[0m         \u001b[0mobs\u001b[0m\u001b[0;34m:\u001b[0m\u001b[0;34m//\u001b[0m\u001b[0mbdp\u001b[0m\u001b[0;34m-\u001b[0m\u001b[0mdeploy\u001b[0m\u001b[0;34m-\u001b[0m\u001b[0msg\u001b[0m\u001b[0;34m/\u001b[0m\u001b[0mkongly\u001b[0m\u001b[0;34m/\u001b[0m\u001b[0mMLFM\u001b[0m\u001b[0;34m.\u001b[0m\u001b[0mjar\u001b[0m\u001b[0;31m \u001b[0m\u001b[0;31m\\\u001b[0m\u001b[0;34m\u001b[0m\u001b[0;34m\u001b[0m\u001b[0m\n\u001b[0;32m---> 32\u001b[0;31m         \"\"\"+train_path+\" \"+feature_path+\" \"+model_output_path+\" \"+train_predict_output+\" \"+feature_output\n\u001b[0m\u001b[1;32m     33\u001b[0m \u001b[0;34m\u001b[0m\u001b[0m\n\u001b[1;32m     34\u001b[0m \u001b[0;31m# 执行\u001b[0m\u001b[0;34m\u001b[0m\u001b[0;34m\u001b[0m\u001b[0;34m\u001b[0m\u001b[0m\n",
      "\u001b[0;31mNameError\u001b[0m: name 'train_path' is not defined"
     ]
    }
   ],
   "source": [
    "from __future__ import absolute_import, division, print_function, unicode_literals\n",
    "import logging\n",
    "import pygenie\n",
    "from pygenie.conf import GenieConf\n",
    "logging.basicConfig(level=logging.INFO)\n",
    "LOGGER = logging.getLogger(__name__)\n",
    "\n",
    "config_file = \"conf/pygenie_test.ini\"\n",
    "conf = GenieConf(config_file=config_file)\n",
    "\n",
    "# 根据genie配置修改user name\n",
    "job = pygenie.jobs.GenieJob(conf) \\\n",
    "    .job_name('Genie Demo Spark Job') \\\n",
    "    .genie_username('kongly') \\\n",
    "    .job_version('3.0.0')\n",
    "\n",
    "job.cluster_tags(['sched:bdp-cce2-test-sg','type:k8s'])\n",
    "job.command_tags(['type:spark-submit'])\n",
    "\n",
    "# command = \"--pod-config metastore.yaml --namespace bdp-test\"\n",
    "command = \"\"\"--deploy-mode cluster \\\n",
    "        --name jupyterhub-test \\\n",
    "        --class TestFM_Push \\\n",
    "        --conf spark.executor.instances=100 \\\n",
    "        --conf spark.driver.memory=25G \\\n",
    "        --conf spark.executor.memory=47G \\\n",
    "        --conf spark.executor.cores=8 \\\n",
    "        --conf spark.dynamicAllocation.enabled=false \\\n",
    "        --conf spark.driver.maxResultSize=25G \\\n",
    "        --conf spark.kubernetes.allocation.batch.size=50 \\\n",
    "        obs://bdp-deploy-sg/kongly/MLFM.jar \\\n",
    "        \"\"\"+train_path+\" \"+feature_path+\" \"+model_output_path+\" \"+train_predict_output+\" \"+feature_output\n",
    "\n",
    "# 执行\n",
    "job.command_arguments(command)\n",
    "\n",
    "running_job = job.execute()\n",
    "print('Job {} is {}'.format(running_job.job_id, running_job.status))\n",
    "print(running_job.job_link)\n",
    "\n",
    "# Block and wait until job is done\n",
    "running_job.wait()\n",
    "print('Job {} finished with status {}'.format(running_job.job_id, running_job.status))\n",
    "for x in running_job.get_log('stdout', iterator=True):\n",
    "    print(x)"
   ]
  },
  {
   "cell_type": "code",
   "execution_count": null,
   "metadata": {},
   "outputs": [],
   "source": []
  }
 ],
 "metadata": {
  "kernelspec": {
   "display_name": "Python 3",
   "language": "python",
   "name": "python3"
  },
  "language_info": {
   "codemirror_mode": {
    "name": "ipython",
    "version": 3
   },
   "file_extension": ".py",
   "mimetype": "text/x-python",
   "name": "python",
   "nbconvert_exporter": "python",
   "pygments_lexer": "ipython3",
   "version": "3.7.6"
  }
 },
 "nbformat": 4,
 "nbformat_minor": 4
}
